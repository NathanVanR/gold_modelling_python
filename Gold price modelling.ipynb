{
 "cells": [
  {
   "cell_type": "code",
   "execution_count": 24,
   "metadata": {},
   "outputs": [
    {
     "name": "stderr",
     "output_type": "stream",
     "text": [
      "[*********************100%%**********************]  1 of 1 completed\n"
     ]
    },
    {
     "data": {
      "text/html": [
       "<div>\n",
       "<style scoped>\n",
       "    .dataframe tbody tr th:only-of-type {\n",
       "        vertical-align: middle;\n",
       "    }\n",
       "\n",
       "    .dataframe tbody tr th {\n",
       "        vertical-align: top;\n",
       "    }\n",
       "\n",
       "    .dataframe thead th {\n",
       "        text-align: right;\n",
       "    }\n",
       "</style>\n",
       "<table border=\"1\" class=\"dataframe\">\n",
       "  <thead>\n",
       "    <tr style=\"text-align: right;\">\n",
       "      <th></th>\n",
       "      <th>Open</th>\n",
       "      <th>High</th>\n",
       "      <th>Low</th>\n",
       "      <th>Close</th>\n",
       "      <th>Adj Close</th>\n",
       "      <th>Volume</th>\n",
       "    </tr>\n",
       "    <tr>\n",
       "      <th>Date</th>\n",
       "      <th></th>\n",
       "      <th></th>\n",
       "      <th></th>\n",
       "      <th></th>\n",
       "      <th></th>\n",
       "      <th></th>\n",
       "    </tr>\n",
       "  </thead>\n",
       "  <tbody>\n",
       "    <tr>\n",
       "      <th>2000-08-30</th>\n",
       "      <td>273.899994</td>\n",
       "      <td>273.899994</td>\n",
       "      <td>273.899994</td>\n",
       "      <td>273.899994</td>\n",
       "      <td>273.899994</td>\n",
       "      <td>0</td>\n",
       "    </tr>\n",
       "    <tr>\n",
       "      <th>2000-08-31</th>\n",
       "      <td>274.799988</td>\n",
       "      <td>278.299988</td>\n",
       "      <td>274.799988</td>\n",
       "      <td>278.299988</td>\n",
       "      <td>278.299988</td>\n",
       "      <td>0</td>\n",
       "    </tr>\n",
       "    <tr>\n",
       "      <th>2000-09-01</th>\n",
       "      <td>277.000000</td>\n",
       "      <td>277.000000</td>\n",
       "      <td>277.000000</td>\n",
       "      <td>277.000000</td>\n",
       "      <td>277.000000</td>\n",
       "      <td>0</td>\n",
       "    </tr>\n",
       "    <tr>\n",
       "      <th>2000-09-05</th>\n",
       "      <td>275.799988</td>\n",
       "      <td>275.799988</td>\n",
       "      <td>275.799988</td>\n",
       "      <td>275.799988</td>\n",
       "      <td>275.799988</td>\n",
       "      <td>2</td>\n",
       "    </tr>\n",
       "    <tr>\n",
       "      <th>2000-09-06</th>\n",
       "      <td>274.200012</td>\n",
       "      <td>274.200012</td>\n",
       "      <td>274.200012</td>\n",
       "      <td>274.200012</td>\n",
       "      <td>274.200012</td>\n",
       "      <td>0</td>\n",
       "    </tr>\n",
       "  </tbody>\n",
       "</table>\n",
       "</div>"
      ],
      "text/plain": [
       "                  Open        High         Low       Close   Adj Close  Volume\n",
       "Date                                                                          \n",
       "2000-08-30  273.899994  273.899994  273.899994  273.899994  273.899994       0\n",
       "2000-08-31  274.799988  278.299988  274.799988  278.299988  278.299988       0\n",
       "2000-09-01  277.000000  277.000000  277.000000  277.000000  277.000000       0\n",
       "2000-09-05  275.799988  275.799988  275.799988  275.799988  275.799988       2\n",
       "2000-09-06  274.200012  274.200012  274.200012  274.200012  274.200012       0"
      ]
     },
     "execution_count": 24,
     "metadata": {},
     "output_type": "execute_result"
    }
   ],
   "source": [
    "import yfinance as yf\n",
    "import matplotlib.pyplot as plt\n",
    "\n",
    "gold_ticker = \"GC=F\"\n",
    "gold_data = yf.download(gold_ticker, start=\"2000-08-30\")\n",
    "gold_data.head()"
   ]
  },
  {
   "cell_type": "code",
   "execution_count": 25,
   "metadata": {},
   "outputs": [
    {
     "name": "stderr",
     "output_type": "stream",
     "text": [
      "[*********************100%%**********************]  1 of 1 completed\n",
      "[*********************100%%**********************]  1 of 1 completed\n"
     ]
    }
   ],
   "source": [
    "dollar_ticker = \"DX=F\"\n",
    "sp500_ticker = \"^GSPC\"\n",
    "\n",
    "dollar_data = yf.download(dollar_ticker, start=\"2000-08-30\")\n",
    "sp500_data = yf.download(sp500_ticker, start=\"2000-08-30\")\n",
    "\n",
    "import pandas_datareader as pdr\n",
    "data_source = 'fred'\n",
    "central_reserves = pdr.DataReader('WALCL', data_source, start='2000-08-30')\n",
    "\n"
   ]
  },
  {
   "cell_type": "code",
   "execution_count": 26,
   "metadata": {},
   "outputs": [
    {
     "name": "stderr",
     "output_type": "stream",
     "text": [
      "[*********************100%%**********************]  1 of 1 completed\n"
     ]
    }
   ],
   "source": [
    "dollar_data.head()\n",
    "\n",
    "oil_ticker = \"CL=F\"\n",
    "yuan_ticker = \"CNHUSD=X\"\n",
    "oil_data = yf.download(oil_ticker, start=\"2000-08-30\")\n",
    "#yuan_data = yf.download(yuan_ticker, start=\"2000-08-30\")\n",
    "#yuan_data.head()"
   ]
  },
  {
   "cell_type": "code",
   "execution_count": 27,
   "metadata": {},
   "outputs": [],
   "source": [
    "import pandas as pd\n",
    "import numpy as np\n",
    "from sklearn.ensemble import RandomForestRegressor\n",
    "from sklearn.model_selection import train_test_split\n",
    "from sklearn.model_selection import cross_val_score\n",
    "#from sklearn.model_selection import KFold\n",
    "from sklearn.metrics import mean_absolute_error\n",
    "from sklearn.metrics import mean_absolute_percentage_error\n",
    "from sklearn.impute import SimpleImputer\n",
    "from sklearn.preprocessing import StandardScaler"
   ]
  },
  {
   "cell_type": "code",
   "execution_count": 28,
   "metadata": {},
   "outputs": [
    {
     "name": "stdout",
     "output_type": "stream",
     "text": [
      "                  Gold       S&P500         USD        Oil  CentralReserves\n",
      "2000-08-30  273.899994  1502.589966  112.080002  33.400002              NaN\n",
      "2000-08-31  278.299988  1517.680054  112.570000  33.099998              NaN\n",
      "2000-09-01  277.000000  1520.770020  111.330002  33.380001              NaN\n",
      "2000-09-02  276.699997  1517.347504  111.320002  33.485001              NaN\n",
      "2000-09-03  276.399994  1513.924988  111.310003  33.590000              NaN\n"
     ]
    },
    {
     "data": {
      "text/html": [
       "<div>\n",
       "<style scoped>\n",
       "    .dataframe tbody tr th:only-of-type {\n",
       "        vertical-align: middle;\n",
       "    }\n",
       "\n",
       "    .dataframe tbody tr th {\n",
       "        vertical-align: top;\n",
       "    }\n",
       "\n",
       "    .dataframe thead th {\n",
       "        text-align: right;\n",
       "    }\n",
       "</style>\n",
       "<table border=\"1\" class=\"dataframe\">\n",
       "  <thead>\n",
       "    <tr style=\"text-align: right;\">\n",
       "      <th></th>\n",
       "      <th>Gold</th>\n",
       "      <th>S&amp;P500</th>\n",
       "      <th>USD</th>\n",
       "      <th>Oil</th>\n",
       "      <th>CentralReserves</th>\n",
       "    </tr>\n",
       "  </thead>\n",
       "  <tbody>\n",
       "    <tr>\n",
       "      <th>8587</th>\n",
       "      <td>1.874479</td>\n",
       "      <td>2.836134</td>\n",
       "      <td>1.074573</td>\n",
       "      <td>0.571700</td>\n",
       "      <td>1.539919</td>\n",
       "    </tr>\n",
       "    <tr>\n",
       "      <th>8588</th>\n",
       "      <td>1.903979</td>\n",
       "      <td>2.788580</td>\n",
       "      <td>1.072336</td>\n",
       "      <td>0.548481</td>\n",
       "      <td>1.538281</td>\n",
       "    </tr>\n",
       "    <tr>\n",
       "      <th>8589</th>\n",
       "      <td>1.935345</td>\n",
       "      <td>2.812321</td>\n",
       "      <td>1.033685</td>\n",
       "      <td>0.587047</td>\n",
       "      <td>1.536643</td>\n",
       "    </tr>\n",
       "    <tr>\n",
       "      <th>8590</th>\n",
       "      <td>1.949722</td>\n",
       "      <td>2.860148</td>\n",
       "      <td>0.984567</td>\n",
       "      <td>0.579177</td>\n",
       "      <td>1.536643</td>\n",
       "    </tr>\n",
       "    <tr>\n",
       "      <th>8591</th>\n",
       "      <td>1.980715</td>\n",
       "      <td>2.860148</td>\n",
       "      <td>0.983493</td>\n",
       "      <td>0.554778</td>\n",
       "      <td>1.536643</td>\n",
       "    </tr>\n",
       "  </tbody>\n",
       "</table>\n",
       "</div>"
      ],
      "text/plain": [
       "          Gold    S&P500       USD       Oil  CentralReserves\n",
       "8587  1.874479  2.836134  1.074573  0.571700         1.539919\n",
       "8588  1.903979  2.788580  1.072336  0.548481         1.538281\n",
       "8589  1.935345  2.812321  1.033685  0.587047         1.536643\n",
       "8590  1.949722  2.860148  0.984567  0.579177         1.536643\n",
       "8591  1.980715  2.860148  0.983493  0.554778         1.536643"
      ]
     },
     "execution_count": 28,
     "metadata": {},
     "output_type": "execute_result"
    }
   ],
   "source": [
    "len_nan = len(gold_data)\n",
    "df = pd.DataFrame({'Gold': gold_data['Close'], \"S&P500\": sp500_data['Close'], 'USD': dollar_data['Close'], \"Oil\": oil_data['Close'], \"CentralReserves\": central_reserves['WALCL']})\n",
    "\n",
    "# =====\n",
    "import pandas as pd\n",
    "\n",
    "# there are missing dates; fill in the dates and then estimate the missing values\n",
    "complete_date_range = pd.date_range(start=df.index.min(), end=df.index.max(), freq='D')\n",
    "df = df.reindex(complete_date_range)\n",
    "\n",
    "# There are missing values; use linear interpolation to fill in the missing values\n",
    "df = df.interpolate()\n",
    "print(df.head())\n",
    "\n",
    "# =====\n",
    "\n",
    "standard_scaler = StandardScaler()\n",
    "df_standardized = standard_scaler.fit_transform(df)\n",
    "df_standardized = pd.DataFrame(df_standardized,columns=df.columns)\n",
    "df_standardized.tail()\n"
   ]
  },
  {
   "cell_type": "code",
   "execution_count": 29,
   "metadata": {},
   "outputs": [],
   "source": [
    "#df['NaN'] = df.isnull().any(axis=1)\n",
    "MeanImputer = SimpleImputer(strategy=\"mean\")\n",
    "df_imputed = pd.DataFrame(MeanImputer.fit_transform(df),columns=df.columns)\n",
    "\n",
    "y=df_imputed['Gold']\n",
    "X_names = ['S&P500', 'USD', 'Oil','CentralReserves']\n",
    "X_names_no_central = ['S&P500', 'USD', 'Oil']\n",
    "X = df_imputed[X_names]\n",
    "X_no_central = df[X_names_no_central]\n",
    "\n",
    "X_train, X_valid, y_train, y_valid = train_test_split(X,y, random_state=1)\n",
    "X_train_no_central, X_valid_no_central, y_train_no_central, y_valid_no_central = train_test_split(X_no_central, y, random_state=1)\n",
    "\n",
    "rf_100 = RandomForestRegressor(random_state=1)\n",
    "rf_500 = RandomForestRegressor(n_estimators=500, random_state=1)\n",
    "rf_1000 = RandomForestRegressor(n_estimators=1000, random_state=1)"
   ]
  },
  {
   "cell_type": "code",
   "execution_count": 30,
   "metadata": {},
   "outputs": [],
   "source": [
    "def get_scores_rf(X_train, X_test, y_train, y_test):\n",
    "    randf_100 = RandomForestRegressor(random_state=1)\n",
    "    randf_100.fit(X_train, y_train)\n",
    "    preds_100 = randf_100.predict(X_test)\n",
    "    print(\"MAE with 100 estimators:\", mean_absolute_error(y_test, preds_100))\n",
    "    print('MAPE with 100 estimators: ', mean_absolute_percentage_error(y_test,preds_100))\n",
    "    \n",
    "\n",
    "    randf_500 = RandomForestRegressor(random_state=1, n_estimators=500)\n",
    "    randf_500.fit(X_train, y_train)\n",
    "    preds_500 = randf_500.predict(X_test)\n",
    "    print(\"\\nMAE with 500 estimators: \", mean_absolute_error(y_test, preds_500))\n",
    "    print('MAPE with 500 estimators: ', mean_absolute_percentage_error(y_test, preds_500))\n",
    "\n",
    "    randf_1000 = RandomForestRegressor(random_state=1, n_estimators=1000)\n",
    "    randf_1000.fit(X_train, y_train)\n",
    "    preds_1000 = randf_1000.predict(X_test)\n",
    "    print(\"\\nMAE with 1000 estimators: \", mean_absolute_error(y_test, preds_1000))\n",
    "    print('MAPE with 1000 estimators: ', mean_absolute_percentage_error(y_test, preds_1000))   "
   ]
  },
  {
   "cell_type": "code",
   "execution_count": 91,
   "metadata": {},
   "outputs": [
    {
     "name": "stdout",
     "output_type": "stream",
     "text": [
      "MAE with 100 estimators: 10.123478313501915\n",
      "MAPE with 100 estimators:  0.009949120078892697\n",
      "\n",
      "MAE with 500 estimators:  10.020042007724369\n",
      "MAPE with 500 estimators:  0.009794377743159749\n",
      "\n",
      "MAE with 1000 estimators:  10.011636769827806\n",
      "MAPE with 1000 estimators:  0.009790434187340923\n",
      "\n",
      "NO CENTRAL RESERVE DATASET:\n",
      "\n",
      "MAE with 100 estimators: 20.332613335750636\n",
      "MAPE with 100 estimators:  0.018711819909682775\n",
      "\n",
      "MAE with 500 estimators:  20.375130380029425\n",
      "MAPE with 500 estimators:  0.018689847959845223\n",
      "\n",
      "MAE with 1000 estimators:  20.336727777469026\n",
      "MAPE with 1000 estimators:  0.018656490331861744\n"
     ]
    }
   ],
   "source": [
    "get_scores_rf(X_train, X_valid, y_train, y_valid)\n",
    "print('\\nNO CENTRAL RESERVE DATASET:\\n')\n",
    "get_scores_rf(X_train_no_central, X_valid_no_central, y_train_no_central, y_valid_no_central)\n",
    "\n",
    "\n",
    "# very interesting to note that there is a slight improvement in MAPE when using the dataset without the central reserve levels"
   ]
  },
  {
   "cell_type": "code",
   "execution_count": 92,
   "metadata": {},
   "outputs": [
    {
     "name": "stdout",
     "output_type": "stream",
     "text": [
      "MAPE xgb_model with no central reserve variable:  0.01904897617666798\n",
      "MAPE xgb_model with central reserve variable:  0.010251364129544232\n"
     ]
    }
   ],
   "source": [
    "from xgboost import XGBRegressor\n",
    "xgb_regressor = XGBRegressor(objective='reg:squarederror', learning_rate=0.1, max_depth=100, n_estimators = 100)\n",
    "\n",
    "xgb_model = xgb_regressor.fit(X_train_no_central, y_train_no_central)\n",
    "y_preds_xgb = xgb_model.predict(X_valid_no_central)\n",
    "\n",
    "xgb_model_2 = xgb_regressor.fit(X_train, y_train)\n",
    "y_preds_xgb_2 = xgb_model_2.predict(X_valid)\n",
    "\n",
    "print('MAPE xgb_model with no central reserve variable: ', mean_absolute_percentage_error(y_valid_no_central, y_preds_xgb))\n",
    "print('MAPE xgb_model with central reserve variable: ', mean_absolute_percentage_error(y_valid, y_preds_xgb_2))\n",
    "\n",
    "# interesting to note that the dataset with the central reserve variable performed better here"
   ]
  },
  {
   "cell_type": "code",
   "execution_count": 93,
   "metadata": {},
   "outputs": [],
   "source": [
    "# It is apparent that the price of gold is very closely related to the level of the S&P500 (used broadly as a measure of how well the American economy is doing), \n",
    "# the level of the US dollar and the price of oil.\n",
    "# Now, I will be using time series analysis to see if I can model the price of gold using past levels"
   ]
  },
  {
   "cell_type": "code",
   "execution_count": 31,
   "metadata": {},
   "outputs": [
    {
     "data": {
      "image/png": "[encoded data removed]",
      "text/plain": [
       "<Figure size 1000x600 with 1 Axes>"
      ]
     },
     "metadata": {},
     "output_type": "display_data"
    },
    {
     "data": {
      "text/plain": [
       "<function matplotlib.pyplot.plot(*args, scalex=True, scaley=True, data=None, **kwargs)>"
      ]
     },
     "execution_count": 31,
     "metadata": {},
     "output_type": "execute_result"
    },
    {
     "data": {
      "text/plain": [
       "<Figure size 1000x600 with 0 Axes>"
      ]
     },
     "metadata": {},
     "output_type": "display_data"
    }
   ],
   "source": [
    "plt.figure(figsize=(10,6))\n",
    "plt.plot(df['Gold'], label = 'Gold Price', color='gold')\n",
    "plt.plot(df['USD'], label='USD',color='green')\n",
    "plt.plot(df['S&P500'], label='S&P 500', color='red')\n",
    "plt.title('Gold Price Trend Over Time')\n",
    "plt.xlabel('Date')\n",
    "plt.ylabel('USD level')\n",
    "plt.legend()\n",
    "plt.grid(True)\n",
    "plt.show()\n",
    "plt.figure(figsize=(10,6))\n",
    "plt.plot"
   ]
  },
  {
   "cell_type": "code",
   "execution_count": 32,
   "metadata": {},
   "outputs": [
    {
     "name": "stdout",
     "output_type": "stream",
     "text": [
      "64091.461060505506\n"
     ]
    }
   ],
   "source": [
    "# Gold preice seems non-stationary, meaning the mean changes over time.\n",
    "# Take first differences of the gold price time series to see what can be deduced\n",
    "from matplotlib import pyplot\n",
    "from statsmodels.graphics.tsaplots import plot_acf, plot_pacf\n",
    "from statsmodels.tsa.arima.model import ARIMA\n",
    "#from statsmodels.stats.aic import aic\n",
    "#plt.plot(df['Gold'].diff(), label = 'Differenced Gold Price', color='gold')\n",
    "#plot_acf(df['Gold'].diff())\n",
    "#plot_pacf(df['Gold'].diff())\n",
    "#pyplot.show()\n",
    "\n",
    "# no meaningful information derived from this process; now we try taking the log of the series\n",
    "\n",
    "#plt.plot(np.log(df['Gold']), label='Log of Gold Price', color='gold')\n",
    "#plot_acf(np.log(df['Gold']), lags=100)\n",
    "#plot_pacf(np.log(df['Gold']), lags=100)\n",
    "\n",
    "\n",
    "#plt.plot(df['Gold'], label = 'Differenced Gold Price', color='gold')\n",
    "#plot_acf(df['Gold'], lags=5)\n",
    "#plot_pacf(df['Gold'], lags=5)\n",
    "#pyplot.show()\n",
    "# seems as if AR(1) process could be useful;\n",
    "\n",
    "model_1 = ARIMA(df['Gold'], order=(1,0,0))\n",
    "ar1_fit = model_1.fit()\n",
    "\n",
    "print(ar1_fit.aic)\n",
    "            "
   ]
  },
  {
   "cell_type": "code",
   "execution_count": 1,
   "metadata": {},
   "outputs": [
    {
     "ename": "",
     "evalue": "",
     "output_type": "error",
     "traceback": [
      "\u001b[1;31mThe Kernel crashed while executing code in the current cell or a previous cell. \n",
      "\u001b[1;31mPlease review the code in the cell(s) to identify a possible cause of the failure. \n",
      "\u001b[1;31mClick <a href='https://aka.ms/vscodeJupyterKernelCrash'>here</a> for more info. \n",
      "\u001b[1;31mView Jupyter <a href='command:jupyter.viewOutput'>log</a> for further details."
     ]
    }
   ],
   "source": [
    "#!pip install pmdarima\n",
    "from pmdarima import auto_arima\n",
    "\n",
    "automated_model = auto_arima(df['Gold'], stepwise=True)\n",
    "print(automated_model)\n",
    "automated_fitted_model = automated_model.fit(df['Gold'])\n",
    "print(automated_fitted_model.aic)\n",
    "\n",
    "# Very interesting that automated model selection suggested an ARIMA(0,1,2)\n",
    "# Let's examine the graph\n",
    "\n",
    "twice_diffed = df['Gold'].diff().diff()\n",
    "plt.plot(twice_diffed, label = 'Differenced Gold Price', color='gold')\n",
    "plot_acf(twice_diffed, lags=5)\n",
    "plot_pacf(twice_diffed, lags=5)\n",
    "pyplot.show()\n",
    "\n",
    "# graph looks weird; need to do more research"
   ]
  }
 ],
 "metadata": {
  "kernelspec": {
   "display_name": "base",
   "language": "python",
   "name": "python3"
  },
  "language_info": {
   "codemirror_mode": {
    "name": "ipython",
    "version": 3
   },
   "file_extension": ".py",
   "mimetype": "text/x-python",
   "name": "python",
   "nbconvert_exporter": "python",
   "pygments_lexer": "ipython3",
   "version": "3.9.13"
  }
 },
 "nbformat": 4,
 "nbformat_minor": 2
}
